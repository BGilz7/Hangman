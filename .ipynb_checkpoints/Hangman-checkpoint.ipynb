{
 "cells": [
  {
   "cell_type": "code",
   "execution_count": 2,
   "metadata": {},
   "outputs": [
    {
     "name": "stdout",
     "output_type": "stream",
     "text": [
      "r a m s Congrats you win!\n",
      "Would you like to play again? yes/no: no\n",
      "Thank you for playing!\n"
     ]
    }
   ],
   "source": [
    "import random\n",
    "from IPython.display import clear_output\n",
    "\n",
    "words = ['patriots', 'superbowl', 'rams', 'touchdown']\n",
    "\n",
    "def startGame():\n",
    "    ''' put code below in a while loop until deciding to\n",
    "    break out of it'''\n",
    "    \n",
    "    while True:\n",
    "        start = input('Enter start to begin hangman: ')\n",
    "        if start == 'start':\n",
    "            break # call gamePlay() out of the while loop, below\n",
    "        else:\n",
    "            print('That is not a valid response.')\n",
    "            \n",
    "    gamePlay() \n",
    "        \n",
    "def gamePlay():\n",
    "    # define guesses list here, so it resets to empty when this function is called\n",
    "    guesses = []\n",
    "    # set a flag to keep track of if the game is over\n",
    "    game_over = False\n",
    "    lives = 10\n",
    "    word = random.choice(words)\n",
    "    word = list(word)\n",
    "    for w in word:\n",
    "        print('-', end=' ')\n",
    "        \n",
    "    # set while loop instead of True to loop until flag is true\n",
    "    while game_over != True:\n",
    "        letter = input('Guess a letter: ')\n",
    "        guesses.append(letter)\n",
    "        if letter in word:\n",
    "            clear_output()\n",
    "            for letter in word:\n",
    "                if letter in guesses:\n",
    "                    print(letter, end=' ')\n",
    "                else:\n",
    "                    print('-', end=' ')\n",
    "        else:\n",
    "            lives -= 1\n",
    "            print('Dude, you just lost a life!')\n",
    "            print('{} lives remaining'.format(lives))\n",
    "            if lives == 0:\n",
    "                print('Out of lives, you are dead! Game over!')\n",
    "                game_over = True\n",
    "                break\n",
    "                \n",
    "        # check win condition here\n",
    "        for char in word:\n",
    "            if char not in guesses:\n",
    "                break\n",
    "        else:\n",
    "            print('Congrats you win!')\n",
    "            game_over = True\n",
    "    \n",
    "    # call playagain \n",
    "    playAgain()\n",
    "                \n",
    "                \n",
    "\n",
    "def playAgain():\n",
    "    again = input('Would you like to play again? yes/no: ')\n",
    "    if again == 'yes':\n",
    "        startGame()\n",
    "    elif again == 'no':\n",
    "        print('Thank you for playing!')\n",
    "    else:\n",
    "        print('That is not a valid answer.')\n",
    "        playAgain()\n",
    "    \n",
    "           \n",
    "               \n",
    "startGame()"
   ]
  },
  {
   "cell_type": "code",
   "execution_count": null,
   "metadata": {},
   "outputs": [],
   "source": [
    "\n"
   ]
  },
  {
   "cell_type": "code",
   "execution_count": null,
   "metadata": {},
   "outputs": [],
   "source": []
  }
 ],
 "metadata": {
  "kernelspec": {
   "display_name": "Python 3",
   "language": "python",
   "name": "python3"
  },
  "language_info": {
   "codemirror_mode": {
    "name": "ipython",
    "version": 3
   },
   "file_extension": ".py",
   "mimetype": "text/x-python",
   "name": "python",
   "nbconvert_exporter": "python",
   "pygments_lexer": "ipython3",
   "version": "3.7.0"
  }
 },
 "nbformat": 4,
 "nbformat_minor": 2
}
